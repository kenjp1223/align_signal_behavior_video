{
 "cells": [
  {
   "cell_type": "code",
   "execution_count": null,
   "metadata": {},
   "outputs": [],
   "source": [
    "import seaborn as sns\n",
    "import os\n",
    "import numpy as np\n",
    "import tdt\n",
    "import pandas as pd\n",
    "import matplotlib.pyplot as plt\n",
    "from scipy import interpolate\n",
    "import cv2\n",
    "from FP_library import *\n",
    "import moviepy.editor as mpy\n",
    "\n",
    "\n",
    "# keep the align_signal_behavior_video.py file in the same path as this notebook\n",
    "import align_signal_behavior_video as fpv\n",
    "import numpy as np\n",
    "from scipy.interpolate import interp1d"
   ]
  },
  {
   "cell_type": "code",
   "execution_count": null,
   "metadata": {},
   "outputs": [],
   "source": [
    "# Set the path to your video\n",
    "video_path = \"sample_video.mpg\"\n",
    "\n",
    "# Read the video\n",
    "video_clip = mpy.VideoFileClip(video_path)\n",
    "        \n",
    "# Set the duration of your video/experiment\n",
    "video_duration = 300 # in seconds\n",
    "\n",
    "# Time space that your data is aligned to. Typically start from 0 to the duration of your experiment\n",
    "timespace = np.linspace(0,video_duration,int(video_clip.duration * video_clip.fps))\n",
    "\n",
    "# Data frame that your behavior data is contained. All columns will be used for plotting.\n",
    "# The range of your behavior values should be normalized to 0-1 if plotting multiple.\n",
    "behavior_data = pd.read_csv(\"sample_behavior_data.csv\",index_col = False) #\n",
    "\n",
    "# Data frame that your signal data is contained. All coolumns will be used for plotting.\n",
    "# The range of your signal values should be normalized if plotting multiple.\n",
    "signal_data = pd.read_csv('sample_signal_data.csv',index_col = False)\n",
    "\n",
    "# Setup the parameters\n",
    "kwargs = fpv.set_parameters(video_clip,timespace) # Function that will automatically fill parameter space\n",
    "\n",
    "# Modify the parameters\n",
    "kwargs[\"save_dir\"] = \"OUTPUTPATH\"\n",
    "kwargs[\"video_name\"] = \"KEY_USED_TO_NAME_OUTPUT_FILE\"\n",
    "kwargs['video_duration'] = video_duration # duration of the video in seconds\n",
    "\n",
    "# Signal plotting variables\n",
    "kwargs['signal_ymin'] = -3.5 # Change this to set the ymin for the signal plotting. \n",
    "kwargs['signal_ymax'] =  3.5# Change this to set the ymax for the signal plotting.  \n",
    "kwargs['signal_ytick_step'] = 1 # Change this to set the ystep for the yticks for signal plotting. (e.g. the ystep between traces of each cell )\n",
    "kwargs['buffer_window_key'] = False\n",
    "\n",
    "# Execute the plotting function\n",
    "fpv.live_video_plot(video_clip,\n",
    "timespace,\n",
    "behavior_data,\n",
    "signal_data,**kwargs)"
   ]
  }
 ],
 "metadata": {
  "language_info": {
   "name": "python"
  }
 },
 "nbformat": 4,
 "nbformat_minor": 2
}
